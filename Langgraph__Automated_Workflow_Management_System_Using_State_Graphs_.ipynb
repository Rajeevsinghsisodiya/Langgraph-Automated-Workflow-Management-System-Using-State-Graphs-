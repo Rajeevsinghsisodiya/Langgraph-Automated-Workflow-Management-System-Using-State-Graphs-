{
  "nbformat": 4,
  "nbformat_minor": 0,
  "metadata": {
    "colab": {
      "provenance": []
    },
    "kernelspec": {
      "name": "python3",
      "display_name": "Python 3"
    },
    "language_info": {
      "name": "python"
    }
  },
  "cells": [
    {
      "cell_type": "markdown",
      "source": [
        "# Project titel: Langgraph \"Automated Workflow Management System Using State Graphs\"\n",
        "\n",
        "Contributor: Rajeev singh sisodiya\n",
        "\n",
        "#Project Overview:\n",
        "This project involves developing an automated workflow management system utilizing state graphs, a method to represent and manage complex workflows in a structured and efficient manner. The system is designed to handle various tasks based on user input, process data, make decisions, assign tasks, and interact with APIs, all while maintaining a log of activities.\n",
        "\n",
        "The core of the system is built around a WorkflowState class that captures the current state of the workflow, including user inputs, data, decisions, task assignments, and other key variables. The workflow is managed by defining nodes (functions) that perform specific tasks like collecting user input, retrieving data, making decisions, assigning tasks, coordinating processes, interacting with APIs, processing data, sending notifications, logging activities, generating output, and finally terminating the workflow.\n",
        "\n",
        "The state transitions between these nodes are governed by conditional logic, ensuring that the workflow follows a path that adapts to the current state and decisions made during execution. The workflow is compiled into a state graph using the StateGraph class, enabling the automated execution of tasks in sequence or based on conditional branches.\n",
        "\n",
        "This approach provides a robust solution for automating and managing workflows, especially in scenarios requiring conditional decision-making and interaction with external systems via APIs. The system is extensible, allowing for the addition of new nodes and logic as needed to accommodate more complex workflows.\n",
        "\n",
        "\n",
        "\n",
        "\n",
        "\n",
        "\n",
        "\n",
        "\n",
        "\n"
      ],
      "metadata": {
        "id": "rY9-zKaqBbUN"
      }
    },
    {
      "cell_type": "code",
      "source": [
        "!pip install langgraph"
      ],
      "metadata": {
        "id": "EOj9OABH3_Ml",
        "outputId": "25dba1f0-6c43-4ab7-a283-98eac564e7d2",
        "colab": {
          "base_uri": "https://localhost:8080/"
        },
        "collapsed": true
      },
      "execution_count": null,
      "outputs": [
        {
          "output_type": "stream",
          "name": "stdout",
          "text": [
            "Collecting langgraph\n",
            "  Downloading langgraph-0.2.14-py3-none-any.whl.metadata (13 kB)\n",
            "Collecting langchain-core<0.3,>=0.2.27 (from langgraph)\n",
            "  Downloading langchain_core-0.2.36-py3-none-any.whl.metadata (6.2 kB)\n",
            "Collecting langgraph-checkpoint<2.0.0,>=1.0.2 (from langgraph)\n",
            "  Downloading langgraph_checkpoint-1.0.6-py3-none-any.whl.metadata (4.5 kB)\n",
            "Requirement already satisfied: PyYAML>=5.3 in /usr/local/lib/python3.10/dist-packages (from langchain-core<0.3,>=0.2.27->langgraph) (6.0.2)\n",
            "Collecting jsonpatch<2.0,>=1.33 (from langchain-core<0.3,>=0.2.27->langgraph)\n",
            "  Downloading jsonpatch-1.33-py2.py3-none-any.whl.metadata (3.0 kB)\n",
            "Collecting langsmith<0.2.0,>=0.1.75 (from langchain-core<0.3,>=0.2.27->langgraph)\n",
            "  Downloading langsmith-0.1.106-py3-none-any.whl.metadata (13 kB)\n",
            "Requirement already satisfied: packaging<25,>=23.2 in /usr/local/lib/python3.10/dist-packages (from langchain-core<0.3,>=0.2.27->langgraph) (24.1)\n",
            "Requirement already satisfied: pydantic<3,>=1 in /usr/local/lib/python3.10/dist-packages (from langchain-core<0.3,>=0.2.27->langgraph) (2.8.2)\n",
            "Collecting tenacity!=8.4.0,<9.0.0,>=8.1.0 (from langchain-core<0.3,>=0.2.27->langgraph)\n",
            "  Downloading tenacity-8.5.0-py3-none-any.whl.metadata (1.2 kB)\n",
            "Requirement already satisfied: typing-extensions>=4.7 in /usr/local/lib/python3.10/dist-packages (from langchain-core<0.3,>=0.2.27->langgraph) (4.12.2)\n",
            "Collecting jsonpointer>=1.9 (from jsonpatch<2.0,>=1.33->langchain-core<0.3,>=0.2.27->langgraph)\n",
            "  Downloading jsonpointer-3.0.0-py2.py3-none-any.whl.metadata (2.3 kB)\n",
            "Collecting httpx<1,>=0.23.0 (from langsmith<0.2.0,>=0.1.75->langchain-core<0.3,>=0.2.27->langgraph)\n",
            "  Downloading httpx-0.27.2-py3-none-any.whl.metadata (7.1 kB)\n",
            "Collecting orjson<4.0.0,>=3.9.14 (from langsmith<0.2.0,>=0.1.75->langchain-core<0.3,>=0.2.27->langgraph)\n",
            "  Downloading orjson-3.10.7-cp310-cp310-manylinux_2_17_x86_64.manylinux2014_x86_64.whl.metadata (50 kB)\n",
            "\u001b[2K     \u001b[90m━━━━━━━━━━━━━━━━━━━━━━━━━━━━━━━━━━━━━━━━\u001b[0m \u001b[32m50.4/50.4 kB\u001b[0m \u001b[31m2.4 MB/s\u001b[0m eta \u001b[36m0:00:00\u001b[0m\n",
            "\u001b[?25hRequirement already satisfied: requests<3,>=2 in /usr/local/lib/python3.10/dist-packages (from langsmith<0.2.0,>=0.1.75->langchain-core<0.3,>=0.2.27->langgraph) (2.32.3)\n",
            "Requirement already satisfied: annotated-types>=0.4.0 in /usr/local/lib/python3.10/dist-packages (from pydantic<3,>=1->langchain-core<0.3,>=0.2.27->langgraph) (0.7.0)\n",
            "Requirement already satisfied: pydantic-core==2.20.1 in /usr/local/lib/python3.10/dist-packages (from pydantic<3,>=1->langchain-core<0.3,>=0.2.27->langgraph) (2.20.1)\n",
            "Requirement already satisfied: anyio in /usr/local/lib/python3.10/dist-packages (from httpx<1,>=0.23.0->langsmith<0.2.0,>=0.1.75->langchain-core<0.3,>=0.2.27->langgraph) (3.7.1)\n",
            "Requirement already satisfied: certifi in /usr/local/lib/python3.10/dist-packages (from httpx<1,>=0.23.0->langsmith<0.2.0,>=0.1.75->langchain-core<0.3,>=0.2.27->langgraph) (2024.7.4)\n",
            "Collecting httpcore==1.* (from httpx<1,>=0.23.0->langsmith<0.2.0,>=0.1.75->langchain-core<0.3,>=0.2.27->langgraph)\n",
            "  Downloading httpcore-1.0.5-py3-none-any.whl.metadata (20 kB)\n",
            "Requirement already satisfied: idna in /usr/local/lib/python3.10/dist-packages (from httpx<1,>=0.23.0->langsmith<0.2.0,>=0.1.75->langchain-core<0.3,>=0.2.27->langgraph) (3.8)\n",
            "Requirement already satisfied: sniffio in /usr/local/lib/python3.10/dist-packages (from httpx<1,>=0.23.0->langsmith<0.2.0,>=0.1.75->langchain-core<0.3,>=0.2.27->langgraph) (1.3.1)\n",
            "Collecting h11<0.15,>=0.13 (from httpcore==1.*->httpx<1,>=0.23.0->langsmith<0.2.0,>=0.1.75->langchain-core<0.3,>=0.2.27->langgraph)\n",
            "  Downloading h11-0.14.0-py3-none-any.whl.metadata (8.2 kB)\n",
            "Requirement already satisfied: charset-normalizer<4,>=2 in /usr/local/lib/python3.10/dist-packages (from requests<3,>=2->langsmith<0.2.0,>=0.1.75->langchain-core<0.3,>=0.2.27->langgraph) (3.3.2)\n",
            "Requirement already satisfied: urllib3<3,>=1.21.1 in /usr/local/lib/python3.10/dist-packages (from requests<3,>=2->langsmith<0.2.0,>=0.1.75->langchain-core<0.3,>=0.2.27->langgraph) (2.0.7)\n",
            "Requirement already satisfied: exceptiongroup in /usr/local/lib/python3.10/dist-packages (from anyio->httpx<1,>=0.23.0->langsmith<0.2.0,>=0.1.75->langchain-core<0.3,>=0.2.27->langgraph) (1.2.2)\n",
            "Downloading langgraph-0.2.14-py3-none-any.whl (87 kB)\n",
            "\u001b[2K   \u001b[90m━━━━━━━━━━━━━━━━━━━━━━━━━━━━━━━━━━━━━━━━\u001b[0m \u001b[32m87.7/87.7 kB\u001b[0m \u001b[31m4.2 MB/s\u001b[0m eta \u001b[36m0:00:00\u001b[0m\n",
            "\u001b[?25hDownloading langchain_core-0.2.36-py3-none-any.whl (395 kB)\n",
            "\u001b[2K   \u001b[90m━━━━━━━━━━━━━━━━━━━━━━━━━━━━━━━━━━━━━━━━\u001b[0m \u001b[32m395.9/395.9 kB\u001b[0m \u001b[31m14.1 MB/s\u001b[0m eta \u001b[36m0:00:00\u001b[0m\n",
            "\u001b[?25hDownloading langgraph_checkpoint-1.0.6-py3-none-any.whl (15 kB)\n",
            "Downloading jsonpatch-1.33-py2.py3-none-any.whl (12 kB)\n",
            "Downloading langsmith-0.1.106-py3-none-any.whl (150 kB)\n",
            "\u001b[2K   \u001b[90m━━━━━━━━━━━━━━━━━━━━━━━━━━━━━━━━━━━━━━━━\u001b[0m \u001b[32m150.6/150.6 kB\u001b[0m \u001b[31m9.0 MB/s\u001b[0m eta \u001b[36m0:00:00\u001b[0m\n",
            "\u001b[?25hDownloading tenacity-8.5.0-py3-none-any.whl (28 kB)\n",
            "Downloading httpx-0.27.2-py3-none-any.whl (76 kB)\n",
            "\u001b[2K   \u001b[90m━━━━━━━━━━━━━━━━━━━━━━━━━━━━━━━━━━━━━━━━\u001b[0m \u001b[32m76.4/76.4 kB\u001b[0m \u001b[31m4.9 MB/s\u001b[0m eta \u001b[36m0:00:00\u001b[0m\n",
            "\u001b[?25hDownloading httpcore-1.0.5-py3-none-any.whl (77 kB)\n",
            "\u001b[2K   \u001b[90m━━━━━━━━━━━━━━━━━━━━━━━━━━━━━━━━━━━━━━━━\u001b[0m \u001b[32m77.9/77.9 kB\u001b[0m \u001b[31m4.8 MB/s\u001b[0m eta \u001b[36m0:00:00\u001b[0m\n",
            "\u001b[?25hDownloading jsonpointer-3.0.0-py2.py3-none-any.whl (7.6 kB)\n",
            "Downloading orjson-3.10.7-cp310-cp310-manylinux_2_17_x86_64.manylinux2014_x86_64.whl (141 kB)\n",
            "\u001b[2K   \u001b[90m━━━━━━━━━━━━━━━━━━━━━━━━━━━━━━━━━━━━━━━━\u001b[0m \u001b[32m141.9/141.9 kB\u001b[0m \u001b[31m9.7 MB/s\u001b[0m eta \u001b[36m0:00:00\u001b[0m\n",
            "\u001b[?25hDownloading h11-0.14.0-py3-none-any.whl (58 kB)\n",
            "\u001b[2K   \u001b[90m━━━━━━━━━━━━━━━━━━━━━━━━━━━━━━━━━━━━━━━━\u001b[0m \u001b[32m58.3/58.3 kB\u001b[0m \u001b[31m3.8 MB/s\u001b[0m eta \u001b[36m0:00:00\u001b[0m\n",
            "\u001b[?25hInstalling collected packages: tenacity, orjson, jsonpointer, h11, jsonpatch, httpcore, httpx, langsmith, langchain-core, langgraph-checkpoint, langgraph\n",
            "  Attempting uninstall: tenacity\n",
            "    Found existing installation: tenacity 9.0.0\n",
            "    Uninstalling tenacity-9.0.0:\n",
            "      Successfully uninstalled tenacity-9.0.0\n",
            "Successfully installed h11-0.14.0 httpcore-1.0.5 httpx-0.27.2 jsonpatch-1.33 jsonpointer-3.0.0 langchain-core-0.2.36 langgraph-0.2.14 langgraph-checkpoint-1.0.6 langsmith-0.1.106 orjson-3.10.7 tenacity-8.5.0\n"
          ]
        }
      ]
    },
    {
      "cell_type": "code",
      "execution_count": 15,
      "metadata": {
        "colab": {
          "base_uri": "https://localhost:8080/"
        },
        "id": "QnxNQLX03guh",
        "outputId": "e1d421b6-d286-4148-e7e0-135cc555327c"
      },
      "outputs": [
        {
          "output_type": "stream",
          "name": "stdout",
          "text": [
            "{'messages': [], 'user_input': 'valid', 'data': ['data1', 'data2'], 'decision': 'proceed', 'task_assigned': True, 'api_success': True, 'notification_sent': True, 'log': ['User input valid', 'Data retrieved', 'Decision made to proceed', 'Task assigned', 'Process coordinated successfully', 'API interaction successful', 'Data processed successfully', 'Notification sent', 'Logging complete', 'Output generated successfully', 'Workflow terminated']}\n"
          ]
        }
      ],
      "source": [
        "from langgraph.graph import StateGraph, END\n",
        "from typing import List\n",
        "from langgraph.graph import MessagesState\n",
        "\n",
        "# Define the state with necessary keys\n",
        "class WorkflowState(MessagesState):\n",
        "    user_input: str\n",
        "    data: List[str]\n",
        "    decision: str\n",
        "    task_assigned: bool\n",
        "    api_success: bool\n",
        "    notification_sent: bool\n",
        "    log: List[str]\n",
        "\n",
        "# Define the nodes\n",
        "def collect_user_input(state: WorkflowState) -> WorkflowState:\n",
        "    # Simulate user input collection and validation\n",
        "    if state.get(\"user_input\") == \"valid\":\n",
        "        state.update({\"log\": state.get(\"log\", []) + [\"User input valid\"]})\n",
        "    else:\n",
        "        state.update({\"log\": state.get(\"log\", []) + [\"User input invalid\"]})\n",
        "    return state\n",
        "\n",
        "def data_retrieval(state: WorkflowState) -> WorkflowState:\n",
        "    # Simulate data retrieval\n",
        "    if state.get(\"user_input\") == \"valid\":\n",
        "        state.update({\"data\": [\"data1\", \"data2\"], \"log\": state.get(\"log\", []) + [\"Data retrieved\"]})\n",
        "    else:\n",
        "        state.update({\"log\": state.get(\"log\", []) + [\"Data retrieval failed\"]})\n",
        "    return state\n",
        "\n",
        "def decision_making(state: WorkflowState) -> WorkflowState:\n",
        "    # Simulate decision making\n",
        "    if \"data1\" in state.get(\"data\", []):\n",
        "        state.update({\"decision\": \"proceed\", \"log\": state.get(\"log\", []) + [\"Decision made to proceed\"]})\n",
        "    else:\n",
        "        state.update({\"decision\": \"alternative\", \"log\": state.get(\"log\", []) + [\"Decision made to take alternative action\"]})\n",
        "    return state\n",
        "\n",
        "def task_assignment(state: WorkflowState) -> WorkflowState:\n",
        "    # Simulate task assignment\n",
        "    if state.get(\"decision\") == \"proceed\":\n",
        "        state.update({\"task_assigned\": True, \"log\": state.get(\"log\", []) + [\"Task assigned\"]})\n",
        "    else:\n",
        "        state.update({\"task_assigned\": False, \"log\": state.get(\"log\", []) + [\"Task not assigned\"]})\n",
        "    return state\n",
        "\n",
        "def process_coordination(state: WorkflowState) -> WorkflowState:\n",
        "    # Simulate process coordination\n",
        "    if state.get(\"task_assigned\"):\n",
        "        state.update({\"log\": state.get(\"log\", []) + [\"Process coordinated successfully\"]})\n",
        "    else:\n",
        "        state.update({\"log\": state.get(\"log\", []) + [\"Process coordination failed\"]})\n",
        "    return state\n",
        "\n",
        "def api_interaction(state: WorkflowState) -> WorkflowState:\n",
        "    # Simulate API interaction\n",
        "    if state.get(\"task_assigned\"):\n",
        "        state.update({\"api_success\": True, \"log\": state.get(\"log\", []) + [\"API interaction successful\"]})\n",
        "    else:\n",
        "        state.update({\"api_success\": False, \"log\": state.get(\"log\", []) + [\"API interaction failed\"]})\n",
        "    return state\n",
        "\n",
        "def data_processing(state: WorkflowState) -> WorkflowState:\n",
        "    # Simulate data processing\n",
        "    if state.get(\"api_success\"):\n",
        "        state.update({\"log\": state.get(\"log\", []) + [\"Data processed successfully\"]})\n",
        "    else:\n",
        "        state.update({\"log\": state.get(\"log\", []) + [\"Data processing failed\"]})\n",
        "    return state\n",
        "\n",
        "def notification(state: WorkflowState) -> WorkflowState:\n",
        "    # Simulate notification sending\n",
        "    if state.get(\"api_success\"):\n",
        "        state.update({\"notification_sent\": True, \"log\": state.get(\"log\", []) + [\"Notification sent\"]})\n",
        "    else:\n",
        "        state.update({\"notification_sent\": False, \"log\": state.get(\"log\", []) + [\"Notification not sent\"]})\n",
        "    return state\n",
        "\n",
        "def logging(state: WorkflowState) -> WorkflowState:\n",
        "    # Simulate logging\n",
        "    state.update({\"log\": state.get(\"log\", []) + [\"Logging complete\"]})\n",
        "    return state\n",
        "\n",
        "def output_generation(state: WorkflowState) -> WorkflowState:\n",
        "    # Simulate output generation\n",
        "    if state.get(\"api_success\"):\n",
        "        state.update({\"log\": state.get(\"log\", []) + [\"Output generated successfully\"]})\n",
        "    else:\n",
        "        state.update({\"log\": state.get(\"log\", []) + [\"Output generation failed\"]})\n",
        "    return state\n",
        "\n",
        "def workflow_termination(state: WorkflowState) -> WorkflowState:\n",
        "    # Simulate workflow termination\n",
        "    state.update({\"log\": state.get(\"log\", []) + [\"Workflow terminated\"]})\n",
        "    return state\n",
        "\n",
        "# Create the graph\n",
        "workflow = StateGraph(WorkflowState)\n",
        "\n",
        "# Add nodes to the graph\n",
        "workflow.add_node(\"collect_user_input\", collect_user_input)\n",
        "workflow.add_node(\"data_retrieval\", data_retrieval)\n",
        "workflow.add_node(\"decision_making\", decision_making)\n",
        "workflow.add_node(\"task_assignment\", task_assignment)\n",
        "workflow.add_node(\"process_coordination\", process_coordination)\n",
        "workflow.add_node(\"api_interaction\", api_interaction)\n",
        "workflow.add_node(\"data_processing\", data_processing)\n",
        "workflow.add_node(\"notification\", notification)\n",
        "workflow.add_node(\"logging\", logging)\n",
        "workflow.add_node(\"output_generation\", output_generation)\n",
        "workflow.add_node(\"workflow_termination\", workflow_termination)\n",
        "\n",
        "# Define the edges with conditional logic\n",
        "workflow.set_entry_point(\"collect_user_input\")\n",
        "workflow.add_conditional_edges(\"collect_user_input\", lambda s: \"data_retrieval\" if s.get(\"user_input\") == \"valid\" else END)\n",
        "workflow.add_edge(\"data_retrieval\", \"decision_making\")\n",
        "workflow.add_conditional_edges(\"decision_making\", lambda s: \"task_assignment\" if s.get(\"decision\") == \"proceed\" else END)\n",
        "workflow.add_edge(\"task_assignment\", \"process_coordination\")\n",
        "workflow.add_edge(\"process_coordination\", \"api_interaction\")\n",
        "workflow.add_edge(\"api_interaction\", \"data_processing\")\n",
        "workflow.add_edge(\"data_processing\", \"notification\")\n",
        "workflow.add_edge(\"notification\", \"logging\")\n",
        "workflow.add_edge(\"logging\", \"output_generation\")\n",
        "workflow.add_edge(\"output_generation\", \"workflow_termination\")\n",
        "workflow.add_edge(\"workflow_termination\", END)\n",
        "\n",
        "# Compile the graph\n",
        "app = workflow.compile()\n",
        "\n",
        "# Example invocation\n",
        "initial_state = {\n",
        "    \"user_input\": \"valid\",\n",
        "    \"messages\": [],\n",
        "    \"log\": []\n",
        "}\n",
        "result = app.invoke(initial_state)\n",
        "print(result)\n",
        "\n"
      ]
    },
    {
      "cell_type": "markdown",
      "source": [
        "#Final Verification"
      ],
      "metadata": {
        "id": "5ZxUbhNzAF9E"
      }
    },
    {
      "cell_type": "code",
      "source": [
        "{\n",
        "  'messages': [],\n",
        "  'user_input': 'valid',\n",
        "  'data': ['data1', 'data2'],\n",
        "  'decision': 'proceed',\n",
        "  'task_assigned': True,\n",
        "  'api_success': True,\n",
        "  'notification_sent': True,\n",
        "  'log': [\n",
        "    'User input valid',\n",
        "    'Data retrieved',\n",
        "    'Decision made to proceed',\n",
        "    'Task assigned',\n",
        "    'Process coordinated successfully',\n",
        "    'API interaction successful',\n",
        "    'Data processed successfully',\n",
        "    'Notification sent',\n",
        "    'Logging complete',\n",
        "    'Output generated successfully',\n",
        "    'Workflow terminated'\n",
        "  ]\n",
        "}\n"
      ],
      "metadata": {
        "colab": {
          "base_uri": "https://localhost:8080/"
        },
        "id": "-9176jU7_JWT",
        "outputId": "9f42f2ea-cc31-4c87-e9ee-fad91dcecb6e"
      },
      "execution_count": 16,
      "outputs": [
        {
          "output_type": "execute_result",
          "data": {
            "text/plain": [
              "{'messages': [],\n",
              " 'user_input': 'valid',\n",
              " 'data': ['data1', 'data2'],\n",
              " 'decision': 'proceed',\n",
              " 'task_assigned': True,\n",
              " 'api_success': True,\n",
              " 'notification_sent': True,\n",
              " 'log': ['User input valid',\n",
              "  'Data retrieved',\n",
              "  'Decision made to proceed',\n",
              "  'Task assigned',\n",
              "  'Process coordinated successfully',\n",
              "  'API interaction successful',\n",
              "  'Data processed successfully',\n",
              "  'Notification sent',\n",
              "  'Logging complete',\n",
              "  'Output generated successfully',\n",
              "  'Workflow terminated']}"
            ]
          },
          "metadata": {},
          "execution_count": 16
        }
      ]
    },
    {
      "cell_type": "markdown",
      "source": [
        "Accuracy:\n",
        "\n",
        "The above results are accurate and consistent with the expected workflow behavior. Each step was completed successfully, and all log entries correctly reflect the progress through the workflow. The final state includes all expected data and log entries.\n",
        "\n",
        "\n",
        "\n",
        "\n",
        "\n"
      ],
      "metadata": {
        "id": "88xUc252_Z8f"
      }
    },
    {
      "cell_type": "markdown",
      "source": [
        "#Implementation of a workflow management system\n",
        "Below code is a Python implementation of a workflow management system using a state graph model, which is designed to handle and automate various stages of a workflow process based on user input and predefined logic. The system is built using the langgraph library, which facilitates the creation and manipulation of state graphs, making it easier to manage complex workflows.\n",
        "\n"
      ],
      "metadata": {
        "id": "CEk4z_qPC3SN"
      }
    },
    {
      "source": [
        "from langgraph.graph import StateGraph, END\n",
        "from typing import TypedDict, Annotated, List, Literal, Union\n",
        "from langgraph.graph import MessagesState\n",
        "\n",
        "\n",
        "# Define the state with necessary keys\n",
        "class WorkflowState(MessagesState):\n",
        "    user_input: str\n",
        "    data: List[str]\n",
        "    decision: str\n",
        "    task_assigned: bool\n",
        "    api_success: bool\n",
        "    notification_sent: bool\n",
        "    log: List[str]\n",
        "\n",
        "# Define the nodes\n",
        "def collect_user_input(state: WorkflowState) -> WorkflowState:\n",
        "    # Simulate user input collection and validation\n",
        "    if state.get(\"user_input\") == \"valid\":\n",
        "        return {\"log\": [\"User input valid\"]}\n",
        "    else:\n",
        "        return {\"log\": [\"User input invalid\"]}\n",
        "\n",
        "# Create the graph\n",
        "workflow = StateGraph(WorkflowState)\n",
        "\n",
        "# Add nodes to the graph\n",
        "# Ensure that the 'data_retrieval' node is added BEFORE the conditional edge is defined\n",
        "workflow.add_node(\"collect_user_input\", collect_user_input)\n",
        "workflow.add_node(\"data_retrieval\", data_retrieval) # Add this line if it was missing\n",
        "# ... (rest of your node additions remain unchanged)\n",
        "\n",
        "# Define the edges with conditional logic\n",
        "workflow.set_entry_point(\"collect_user_input\")\n",
        "# Double-check the node name in the conditional edge definition for typos\n",
        "workflow.add_conditional_edges(\"collect_user_input\", lambda s: \"data_retrieval\" if s.get(\"user_input\") == \"valid\" else END)\n",
        "# ... (rest of your edge definitions remain unchanged)\n",
        "\n",
        "# Compile the graph\n",
        "app = workflow.compile()\n",
        "\n",
        "# Example invocation\n",
        "initial_state = {\n",
        "    \"user_input\": \"valid\",\n",
        "    \"messages\": [],\n",
        "    \"log\": []\n",
        "}\n",
        "result = app.invoke(initial_state)\n",
        "print(result)\n",
        "\n"
      ],
      "cell_type": "code",
      "metadata": {
        "colab": {
          "base_uri": "https://localhost:8080/"
        },
        "id": "wK4fWWBq7qHU",
        "outputId": "8ee7dfa1-f03f-4b51-e1ff-a53d83e24a3e"
      },
      "execution_count": 14,
      "outputs": [
        {
          "output_type": "stream",
          "name": "stdout",
          "text": [
            "{'messages': [], 'user_input': 'valid', 'data': ['data1', 'data2'], 'log': ['Data retrieved']}\n"
          ]
        }
      ]
    },
    {
      "cell_type": "markdown",
      "source": [
        "Summary:\n",
        "The result indicates that the workflow has progressed successfully. The user input was valid, leading to the successful retrieval of data ('data1' and 'data2'), and this action was logged. There are no error messages or issues reported, suggesting that the workflow is functioning as intended up to this point."
      ],
      "metadata": {
        "id": "jFSGy3R69PCM"
      }
    }
  ]
}